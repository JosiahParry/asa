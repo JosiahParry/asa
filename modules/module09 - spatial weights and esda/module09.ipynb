{
 "cells": [
  {
   "cell_type": "markdown",
   "metadata": {},
   "source": [
    "# Advanced Spatial Analysis\n",
    "# Module 09: Spatial weights and ESDA"
   ]
  },
  {
   "cell_type": "code",
   "execution_count": null,
   "metadata": {},
   "outputs": [],
   "source": [
    "import geopandas as gpd\n",
    "import matplotlib.pyplot as plt\n",
    "import numpy as np\n",
    "import pandas as pd\n",
    "import pysal as ps\n",
    "import seaborn as sns\n",
    "from scipy.stats import stats\n",
    "\n",
    "np.random.seed(0)\n",
    "print(gpd.__version__, ps.__version__)"
   ]
  },
  {
   "cell_type": "markdown",
   "metadata": {},
   "source": [
    "## Load the tracts data set"
   ]
  },
  {
   "cell_type": "code",
   "execution_count": null,
   "metadata": {},
   "outputs": [],
   "source": [
    "tracts = gpd.read_file('census/census_tracts_data.geojson')\n",
    "tracts = tracts.set_index('index')\n",
    "tracts.shape"
   ]
  },
  {
   "cell_type": "code",
   "execution_count": null,
   "metadata": {},
   "outputs": [],
   "source": [
    "tracts.columns"
   ]
  },
  {
   "cell_type": "code",
   "execution_count": null,
   "metadata": {},
   "outputs": [],
   "source": [
    "tracts.head()"
   ]
  },
  {
   "cell_type": "code",
   "execution_count": null,
   "metadata": {},
   "outputs": [],
   "source": [
    "# calculate pop density in persons per sq km\n",
    "tracts['pop_density'] = tracts['total_pop'] / (tracts['ALAND'] / 1e6)\n",
    "tracts = tracts.replace([np.inf, -np.inf], np.nan)"
   ]
  },
  {
   "cell_type": "code",
   "execution_count": null,
   "metadata": {},
   "outputs": [],
   "source": [
    "utm_ma = '+proj=utm +zone=18 +ellps=WGS84 +datum=WGS84 +units=m +no_defs'\n",
    "tracts = tracts.to_crs(utm_ma)"
   ]
  },
  {
   "cell_type": "markdown",
   "metadata": {},
   "source": [
    "## 1. Exploratory analysis"
   ]
  },
  {
   "cell_type": "code",
   "execution_count": null,
   "metadata": {},
   "outputs": [],
   "source": [
    "def map_variable(df, col):\n",
    "    values = df.dropna(subset=[col])\n",
    "    ax = values.plot(column=col, scheme='quantiles', k=10, cmap='plasma', figsize=(10,10))\n",
    "    ax.axis('off')\n",
    "    plt.show()"
   ]
  },
  {
   "cell_type": "code",
   "execution_count": null,
   "metadata": {},
   "outputs": [],
   "source": [
    "map_variable(tracts, 'pop_density')"
   ]
  },
  {
   "cell_type": "code",
   "execution_count": null,
   "metadata": {},
   "outputs": [],
   "source": [
    "map_variable(tracts, 'med_household_income')"
   ]
  },
  {
   "cell_type": "markdown",
   "metadata": {},
   "source": [
    "It looks like these two variables might be negatively correlated?"
   ]
  },
  {
   "cell_type": "code",
   "execution_count": null,
   "metadata": {},
   "outputs": [],
   "source": [
    "# calculate the correlation coefficient and its p-value\n",
    "x = tracts.dropna(subset=['pop_density', 'med_household_income'])['pop_density']\n",
    "y = tracts.dropna(subset=['pop_density', 'med_household_income'])['med_household_income']\n",
    "r, p = stats.pearsonr(x=x, y=y)\n",
    "print('r={:.4f}, p={:.4f}'.format(r, p))"
   ]
  },
  {
   "cell_type": "code",
   "execution_count": null,
   "metadata": {},
   "outputs": [],
   "source": [
    "# scatter plot them\n",
    "fig, ax = plt.subplots()\n",
    "ax.scatter(x=x, y=y, s=1)\n",
    "ax.set_xlim(left=0)\n",
    "ax.set_ylim(bottom=0)\n",
    "plt.show()"
   ]
  },
  {
   "cell_type": "code",
   "execution_count": null,
   "metadata": {},
   "outputs": [],
   "source": [
    "# estimate a simple linear regression model\n",
    "m, b, r, p, se = stats.linregress(x=x, y=y)\n",
    "print('m={:.4f}, b={:.4f}, r^2={:.4f}, p={:.4f}'.format(m, b, r ** 2, p))"
   ]
  },
  {
   "cell_type": "code",
   "execution_count": null,
   "metadata": {},
   "outputs": [],
   "source": [
    "# plot the regression line with 95% CI\n",
    "ax = sns.regplot(x, y, marker='.', scatter_kws={'s':2, 'color':'gray'})\n",
    "ax.set_xlim(left=0)\n",
    "ax.set_ylim(bottom=0)\n",
    "plt.show()"
   ]
  },
  {
   "cell_type": "markdown",
   "metadata": {},
   "source": [
    "## 2. Spatial weights matrix\n",
    "\n",
    "Spatial weights define the spatial connections among our units of analysis (tracts).\n",
    "\n",
    "### 2.1. Contiguity-based weights: rook contiguity\n",
    "\n",
    "Using rook contiguity, two spatial units must share an edge of their boundaries to be considered neighbors. This isn't terribly common in practice (since queen is more useful, but it's worth understanding)."
   ]
  },
  {
   "cell_type": "code",
   "execution_count": null,
   "metadata": {},
   "outputs": [],
   "source": [
    "# get the tract labels (GEOIDs) and pick one to work with later\n",
    "labels = tracts.index.tolist()\n",
    "label = labels[1000]"
   ]
  },
  {
   "cell_type": "code",
   "execution_count": null,
   "metadata": {},
   "outputs": [],
   "source": [
    "%%time\n",
    "w_rook = ps.lib.weights.Rook.from_dataframe(tracts)"
   ]
  },
  {
   "cell_type": "markdown",
   "metadata": {},
   "source": [
    "### 2.2. Contiguity-based weights: queen contiguity\n",
    "\n",
    "Using queen contiguity, two spatial units need only share a vertex (a single point) of their boundaries to be considered neighbors."
   ]
  },
  {
   "cell_type": "code",
   "execution_count": null,
   "metadata": {},
   "outputs": [],
   "source": [
    "%%time\n",
    "w_queen = ps.lib.weights.Queen.from_dataframe(tracts, ids=labels, id_order=labels)"
   ]
  },
  {
   "cell_type": "code",
   "execution_count": null,
   "metadata": {},
   "outputs": [],
   "source": [
    "# find the neighbors of some tract\n",
    "w_queen.neighbors[label]"
   ]
  },
  {
   "cell_type": "code",
   "execution_count": null,
   "metadata": {},
   "outputs": [],
   "source": [
    "# this is a raw contiguity matrix, so weights are all 1\n",
    "w_queen.weights[label]"
   ]
  },
  {
   "cell_type": "code",
   "execution_count": null,
   "metadata": {},
   "outputs": [],
   "source": [
    "# how many neighbors does this tract have?\n",
    "w_queen.cardinalities[label]"
   ]
  },
  {
   "cell_type": "code",
   "execution_count": null,
   "metadata": {},
   "outputs": [],
   "source": [
    "# convert cardinalites to series and describe data -- looks right-skewed\n",
    "cardinalites_queen = pd.Series(w_queen.cardinalities)\n",
    "cardinalites_queen.describe()"
   ]
  },
  {
   "cell_type": "code",
   "execution_count": null,
   "metadata": {},
   "outputs": [],
   "source": [
    "ax = cardinalites_queen.hist(bins=20)"
   ]
  },
  {
   "cell_type": "code",
   "execution_count": null,
   "metadata": {},
   "outputs": [],
   "source": [
    "# number of observations\n",
    "w_queen.n"
   ]
  },
  {
   "cell_type": "code",
   "execution_count": null,
   "metadata": {},
   "outputs": [],
   "source": [
    "# average number of neighbors\n",
    "w_queen.mean_neighbors"
   ]
  },
  {
   "cell_type": "code",
   "execution_count": null,
   "metadata": {},
   "outputs": [],
   "source": [
    "# min number of neighbors\n",
    "w_queen.min_neighbors"
   ]
  },
  {
   "cell_type": "code",
   "execution_count": null,
   "metadata": {},
   "outputs": [],
   "source": [
    "# max number of neighbors\n",
    "w_queen.max_neighbors"
   ]
  },
  {
   "cell_type": "code",
   "execution_count": null,
   "metadata": {},
   "outputs": [],
   "source": [
    "# islands (observations with no neighbors, disconnected in space)\n",
    "w_queen.islands"
   ]
  },
  {
   "cell_type": "code",
   "execution_count": null,
   "metadata": {},
   "outputs": [],
   "source": [
    "fig, ax = plt.subplots(figsize=(6, 6))\n",
    "tracts.plot(ax=ax, facecolor='#999999', edgecolor='w', linewidth=0.5)\n",
    "\n",
    "# plot some tract of interest in red\n",
    "tract = tracts.loc[[label]]\n",
    "tract.plot(ax=ax, facecolor='r', edgecolor='w', linewidth=1)\n",
    "\n",
    "# plot the neighbors in blue\n",
    "neighbors = tracts.loc[w_queen[label]]\n",
    "neighbors.plot(ax=ax, facecolor='b', edgecolor='w', linewidth=1)\n",
    "\n",
    "# zoom to area of interest\n",
    "xmin, ymin, xmax, ymax = neighbors.unary_union.bounds\n",
    "ax.axis('equal')\n",
    "ax.set_xlim(xmin, xmax)\n",
    "ax.set_ylim(ymin, ymax)\n",
    "\n",
    "ax.set_title('Neighbors of tract {}'.format(label))\n",
    "plt.show()"
   ]
  },
  {
   "cell_type": "markdown",
   "metadata": {},
   "source": [
    "### 3.3. Distance-based weights: k-nn\n",
    "\n",
    "Using k-nearest neighbors and distance bands."
   ]
  },
  {
   "cell_type": "code",
   "execution_count": null,
   "metadata": {},
   "outputs": [],
   "source": [
    "# k-nearest neighbors finds the closest k tract centroids to each tract centroid\n",
    "# here, k=6\n",
    "w_knn = ps.lib.weights.KNN.from_dataframe(tracts, k=6)"
   ]
  },
  {
   "cell_type": "markdown",
   "metadata": {},
   "source": [
    "### 3.4. Distance-based weights: distance band\n",
    "\n",
    "Tracts are considered neighbors of some tract if they are within some threshold distance of it."
   ]
  },
  {
   "cell_type": "code",
   "execution_count": null,
   "metadata": {},
   "outputs": [],
   "source": [
    "x = tracts.centroid.x\n",
    "y = tracts.centroid.y\n",
    "coords = np.array([x, y]).T\n",
    "threshold = ps.lib.weights.min_threshold_distance(coords)"
   ]
  },
  {
   "cell_type": "code",
   "execution_count": null,
   "metadata": {},
   "outputs": [],
   "source": [
    "%%time\n",
    "w_dist = ps.lib.weights.distance.DistanceBand.from_dataframe(tracts, threshold=threshold)"
   ]
  },
  {
   "cell_type": "code",
   "execution_count": null,
   "metadata": {},
   "outputs": [],
   "source": [
    "len(w_dist.neighbors[label])"
   ]
  },
  {
   "cell_type": "markdown",
   "metadata": {},
   "source": [
    "### 3.5. Standardizing weights\n",
    "\n",
    "A spatial weights matrix with raw values (e.g. 1s and 0s for neighbor/not) is not always the best for analysis. Some sort of standardization is useful."
   ]
  },
  {
   "cell_type": "code",
   "execution_count": null,
   "metadata": {},
   "outputs": [],
   "source": [
    "w_queen[label]"
   ]
  },
  {
   "cell_type": "code",
   "execution_count": null,
   "metadata": {},
   "outputs": [],
   "source": [
    "# check the current transformation of the weights matrix (O = original)\n",
    "w_queen.transform"
   ]
  },
  {
   "cell_type": "markdown",
   "metadata": {},
   "source": [
    "Typically, we want to apply a row-based transformation, so every row of the matrix sums up to 1."
   ]
  },
  {
   "cell_type": "code",
   "execution_count": null,
   "metadata": {},
   "outputs": [],
   "source": [
    "w_queen.transform = 'R'\n",
    "w_queen[label]"
   ]
  },
  {
   "cell_type": "markdown",
   "metadata": {},
   "source": [
    "PySAL supports the following transformations:\n",
    "\n",
    "  - O: original, returning the object to the initial state\n",
    "  - B: binary, with every neighbor having assigned a weight of 1\n",
    "  - R: row-based, with all the neighbors of a given observation adding up to 1\n",
    "  - V: variance stabilizing, with the sum of all the weights being constrained to the number of observations\n",
    "\n",
    "**It can take a long time to calculate a weights matrix for a large data set.**\n",
    "\n",
    "Once you've created yours, you might want to save it to disk to re-use in subsequent analyses."
   ]
  },
  {
   "cell_type": "code",
   "execution_count": null,
   "metadata": {},
   "outputs": [],
   "source": [
    "# save your matrix to disk\n",
    "f = ps.lib.io.open('tracts_queen.gal', 'w')\n",
    "f.write(w_queen)\n",
    "f.close()"
   ]
  },
  {
   "cell_type": "code",
   "execution_count": null,
   "metadata": {},
   "outputs": [],
   "source": [
    "# read a matrix from disk (notice its transformation)\n",
    "w_queen = ps.lib.io.open('tracts_queen.gal', 'r').read()\n",
    "w_queen[label]"
   ]
  },
  {
   "cell_type": "markdown",
   "metadata": {},
   "source": [
    "## 4. Spatial lag"
   ]
  },
  {
   "cell_type": "code",
   "execution_count": null,
   "metadata": {},
   "outputs": [],
   "source": [
    "col = 'med_household_income'\n",
    "tracts_not_null = tracts[[col, 'geometry']].dropna()\n",
    "y = tracts_not_null[col]"
   ]
  },
  {
   "cell_type": "code",
   "execution_count": null,
   "metadata": {},
   "outputs": [],
   "source": [
    "w_queen = ps.lib.weights.Queen.from_dataframe(tracts_not_null)\n",
    "w_queen.transform = 'R'"
   ]
  },
  {
   "cell_type": "code",
   "execution_count": null,
   "metadata": {},
   "outputs": [],
   "source": [
    "# compute spatial lag\n",
    "y_lag = ps.lib.weights.lag_spatial(w_queen, y)"
   ]
  },
  {
   "cell_type": "code",
   "execution_count": null,
   "metadata": {},
   "outputs": [],
   "source": [
    "col_lag = '{}_lag'.format(col)\n",
    "data_lag = pd.DataFrame(data={col:y, col_lag:y_lag}).astype(int)\n",
    "data_lag.sample(10)"
   ]
  },
  {
   "cell_type": "markdown",
   "metadata": {},
   "source": [
    "## 5. Moran plots"
   ]
  },
  {
   "cell_type": "code",
   "execution_count": null,
   "metadata": {},
   "outputs": [],
   "source": [
    "fig, ax = plt.subplots(figsize=(9, 9))\n",
    "sns.regplot(x=col, y=col_lag, data=data_lag)\n",
    "plt.show()"
   ]
  },
  {
   "cell_type": "code",
   "execution_count": null,
   "metadata": {},
   "outputs": [],
   "source": [
    "# standardize the values\n",
    "y_std = (y - y.mean()) / y.std()"
   ]
  },
  {
   "cell_type": "code",
   "execution_count": null,
   "metadata": {},
   "outputs": [],
   "source": [
    "# compute the spatial lag of the standardized vector and save it as a series indexed like the original vector\n",
    "y_std_lag = pd.Series(ps.lib.weights.lag_spatial(w_queen, y_std), index=y_std.index, name=col_lag)"
   ]
  },
  {
   "cell_type": "code",
   "execution_count": null,
   "metadata": {},
   "outputs": [],
   "source": [
    "fig, ax = plt.subplots(figsize=(9, 9))\n",
    "sns.regplot(ax=ax, x=y_std, y=y_std_lag)\n",
    "plt.axvline(0, c='k', alpha=0.5)\n",
    "plt.axhline(0, c='k', alpha=0.5)\n",
    "plt.show()"
   ]
  },
  {
   "cell_type": "markdown",
   "metadata": {},
   "source": [
    "## 6. Spatial autocorrelation"
   ]
  },
  {
   "cell_type": "code",
   "execution_count": null,
   "metadata": {},
   "outputs": [],
   "source": []
  },
  {
   "cell_type": "markdown",
   "metadata": {},
   "source": [
    "## 7. Spatial clustering"
   ]
  },
  {
   "cell_type": "code",
   "execution_count": null,
   "metadata": {},
   "outputs": [],
   "source": []
  }
 ],
 "metadata": {
  "kernelspec": {
   "display_name": "Python 3",
   "language": "python",
   "name": "python3"
  },
  "language_info": {
   "codemirror_mode": {
    "name": "ipython",
    "version": 3
   },
   "file_extension": ".py",
   "mimetype": "text/x-python",
   "name": "python",
   "nbconvert_exporter": "python",
   "pygments_lexer": "ipython3",
   "version": "3.7.1"
  }
 },
 "nbformat": 4,
 "nbformat_minor": 2
}
